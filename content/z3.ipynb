{
 "cells": [
  {
   "cell_type": "markdown",
   "metadata": {},
   "source": [
    "<https://github.com/microsoft/z3guide/tree/main/website/static>\n",
    "<https://github.com/Z3Prover/z3/actions/runs/11926444305> wheels are starting to go into CI actions\n"
   ]
  },
  {
   "cell_type": "code",
   "execution_count": null,
   "metadata": {
    "vscode": {
     "languageId": "plaintext"
    }
   },
   "outputs": [],
   "source": [
    "import micropip\n",
    "await micropip.install(\"https://microsoft.github.io/z3guide/z3_solver-4.13.4.0-py3-none-pyodide_2024_0_wasm32.whl\")"
   ]
  },
  {
   "cell_type": "code",
   "execution_count": null,
   "metadata": {
    "vscode": {
     "languageId": "plaintext"
    }
   },
   "outputs": [],
   "source": [
    "import z3\n",
    "s = z3.Solver()\n",
    "x,y,z = z3.Reals(\"x y z\")\n",
    "s.add(x >= 4)\n",
    "s.check()\n",
    "s.model()"
   ]
  }
 ],
 "metadata": {
  "language_info": {
   "name": "python"
  }
 },
 "nbformat": 4,
 "nbformat_minor": 2
}
